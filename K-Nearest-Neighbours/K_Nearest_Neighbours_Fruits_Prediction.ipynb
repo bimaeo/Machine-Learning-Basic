{
  "nbformat": 4,
  "nbformat_minor": 0,
  "metadata": {
    "colab": {
      "provenance": []
    },
    "kernelspec": {
      "name": "python3",
      "display_name": "Python 3"
    },
    "language_info": {
      "name": "python"
    }
  },
  "cells": [
    {
      "cell_type": "code",
      "execution_count": 25,
      "metadata": {
        "id": "JJrfk6uZ8uvg"
      },
      "outputs": [],
      "source": [
        "import pandas as pd\n",
        "import numpy as np"
      ]
    },
    {
      "cell_type": "code",
      "source": [
        "dataBuah = {\n",
        "    'Buah': ['Jeruk', 'Apel', 'Jeruk', 'Apel', 'Jeruk', 'Apel', 'Jeruk', 'Apel', 'Jeruk', 'Apel'],\n",
        "    'Berat': [150, 180, 160, 200, 155, 175, 165, 190, 145, 185],\n",
        "    'Diameter': [8, 7, 8.5, 7.5, 8.2, 7.8, 8.1, 7.6, 7.9, 7.4]\n",
        "}\n",
        "\n",
        "buah_df = pd.DataFrame(dataBuah)\n",
        "\n",
        "X = buah_df[['Berat', 'Diameter']]\n",
        "y = buah_df['Buah']"
      ],
      "metadata": {
        "id": "SwnkqW4B81pd"
      },
      "execution_count": 26,
      "outputs": []
    },
    {
      "cell_type": "markdown",
      "source": [],
      "metadata": {
        "id": "85_eqFTa9gbM"
      }
    },
    {
      "cell_type": "code",
      "source": [
        "from sklearn.model_selection import train_test_split\n",
        "from sklearn.neighbors import KNeighborsClassifier\n",
        "\n",
        "X_train, X_test, y_train, y_test = train_test_split(X, y, test_size=0.2, random_state=42)\n",
        "\n",
        "model = KNeighborsClassifier(n_neighbors=3)\n",
        "model.fit(X_train, y_train)\n",
        "\n",
        "y_pred = model.predict(X_test)\n",
        "\n",
        "# Evaluasi Model\n",
        "accuracy = np.mean(y_pred == y_test)\n",
        "print(f'Akurasi model: {accuracy * 100:.2f}%')\n",
        "\n",
        "from sklearn.metrics import classification_report\n",
        "print(classification_report(y_test, y_pred))"
      ],
      "metadata": {
        "colab": {
          "base_uri": "https://localhost:8080/"
        },
        "id": "hmldt89g9lfa",
        "outputId": "efd487d9-6003-48e2-a666-255605ccba53"
      },
      "execution_count": 27,
      "outputs": [
        {
          "output_type": "stream",
          "name": "stdout",
          "text": [
            "Akurasi model: 100.00%\n",
            "              precision    recall  f1-score   support\n",
            "\n",
            "        Apel       1.00      1.00      1.00         1\n",
            "       Jeruk       1.00      1.00      1.00         1\n",
            "\n",
            "    accuracy                           1.00         2\n",
            "   macro avg       1.00      1.00      1.00         2\n",
            "weighted avg       1.00      1.00      1.00         2\n",
            "\n"
          ]
        }
      ]
    },
    {
      "cell_type": "code",
      "source": [
        "X_pred = np.array([165, 7])\n",
        "\n",
        "from scipy.spatial.distance import euclidean # Liblary untuk menghitung distance terdekat untuk melakukan prediksi\n",
        "distances = [euclidean(X_pred, d) for d in X_train.to_numpy()]\n",
        "\n",
        "buah_df = pd.DataFrame({'Distance': distances, 'Buah': y_train.reset_index(drop=True)})\n",
        "buah_df = buah_df.sort_values(by='Distance')"
      ],
      "metadata": {
        "id": "fQsI2CRU-P3G"
      },
      "execution_count": 28,
      "outputs": []
    },
    {
      "cell_type": "code",
      "source": [
        "prediksi_buah = buah_df.iloc[0].Buah #  Mengambil distance terdekat dari hasil prediksi\n",
        "print(\"Berat (Gram) :\", X_pred[0], \"| Diameter (cm) :\", X_pred[1], \"| Prediksi Buah :\", prediksi_buah)"
      ],
      "metadata": {
        "colab": {
          "base_uri": "https://localhost:8080/"
        },
        "id": "VE545Y7eADQ5",
        "outputId": "e81bf940-7368-48d0-95e8-7671fd2c4d20"
      },
      "execution_count": 31,
      "outputs": [
        {
          "output_type": "stream",
          "name": "stdout",
          "text": [
            "Berat (Gram) : 165 | Diameter (cm) : 7 | Prediksi Buah : Jeruk\n"
          ]
        }
      ]
    },
    {
      "cell_type": "code",
      "source": [],
      "metadata": {
        "id": "yqmW6QsnAJPr"
      },
      "execution_count": null,
      "outputs": []
    }
  ]
}